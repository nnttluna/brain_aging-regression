{
  "nbformat": 4,
  "nbformat_minor": 0,
  "metadata": {
    "colab": {
      "provenance": [],
      "authorship_tag": "ABX9TyPEOFaZPWt1OpIdzVVNHvye",
      "include_colab_link": true
    },
    "kernelspec": {
      "name": "python3",
      "display_name": "Python 3"
    },
    "language_info": {
      "name": "python"
    }
  },
  "cells": [
    {
      "cell_type": "markdown",
      "metadata": {
        "id": "view-in-github",
        "colab_type": "text"
      },
      "source": [
        "<a href=\"https://colab.research.google.com/github/nnttluna/brain_aging-regression/blob/main/brain_age_regression_boosted_tree.ipynb\" target=\"_parent\"><img src=\"https://colab.research.google.com/assets/colab-badge.svg\" alt=\"Open In Colab\"/></a>"
      ]
    },
    {
      "cell_type": "code",
      "execution_count": null,
      "metadata": {
        "id": "PLRILY-TGsJm"
      },
      "outputs": [],
      "source": []
    },
    {
      "cell_type": "code",
      "source": [
        "from google.colab import drive\n",
        "drive.mount('/content/drive')"
      ],
      "metadata": {
        "colab": {
          "base_uri": "https://localhost:8080/"
        },
        "id": "_sIGl2gxHAuj",
        "outputId": "4da3b0a5-01ef-4efb-8935-17845bb17f23"
      },
      "execution_count": 1,
      "outputs": [
        {
          "output_type": "stream",
          "name": "stdout",
          "text": [
            "Mounted at /content/drive\n"
          ]
        }
      ]
    },
    {
      "cell_type": "code",
      "source": [
        "import pandas as pd\n",
        "data = pd.read_csv('/content/drive/MyDrive/Portfolio/brain_age_regression.csv')\n",
        "print(data.head())"
      ],
      "metadata": {
        "colab": {
          "base_uri": "https://localhost:8080/"
        },
        "id": "6QhaYFRRHHen",
        "outputId": "f1c9e9c2-624b-4636-83fa-c98bdf2fc0c8"
      },
      "execution_count": 2,
      "outputs": [
        {
          "output_type": "stream",
          "name": "stdout",
          "text": [
            "   S.No  Left-Lateral-Ventricle  Left-Inf-Lat-Vent  \\\n",
            "0     1                 22916.9              982.7   \n",
            "1     2                 22953.2              984.5   \n",
            "2     3                 23320.4             1062.1   \n",
            "3     4                 24360.0             1000.5   \n",
            "4     5                 25769.4             1124.4   \n",
            "\n",
            "   Left-Cerebellum-White-Matter  Left-Cerebellum-Cortex  Left-Thalamus  \\\n",
            "0                       15196.7                 55796.4         6855.5   \n",
            "1                       15289.7                 55778.6         6835.1   \n",
            "2                       15382.1                 55551.2         7566.0   \n",
            "3                       14805.4                 54041.8         8004.6   \n",
            "4                       16331.1                 54108.6         6677.4   \n",
            "\n",
            "   Left-Caudate  Left-Putamen  Left-Pallidum  3rd-Ventricle  ...  \\\n",
            "0        2956.4        4240.7         2223.9         2034.4  ...   \n",
            "1        3064.2        4498.6         2354.1         1927.1  ...   \n",
            "2        3231.7        4456.2         1995.4         2064.7  ...   \n",
            "3        3137.3        4262.2         1983.4         2017.7  ...   \n",
            "4        2964.4        4204.6         2409.7         2251.8  ...   \n",
            "\n",
            "   rh_supramarginal_thickness  rh_frontalpole_thickness  \\\n",
            "0                       2.408                     2.629   \n",
            "1                       2.417                     2.640   \n",
            "2                       2.374                     2.601   \n",
            "3                       2.366                     2.639   \n",
            "4                       2.381                     2.555   \n",
            "\n",
            "   rh_temporalpole_thickness  rh_transversetemporal_thickness  \\\n",
            "0                      3.519                            2.009   \n",
            "1                      3.488                            2.111   \n",
            "2                      3.342                            2.146   \n",
            "3                      3.361                            2.056   \n",
            "4                      3.450                            2.052   \n",
            "\n",
            "   rh_insula_thickness  rh_MeanThickness_thickness  BrainSegVolNotVent.2  \\\n",
            "0                2.825                     2.33635               1093846   \n",
            "1                2.720                     2.34202               1099876   \n",
            "2                2.684                     2.31982               1097999   \n",
            "3                2.700                     2.29215               1070117   \n",
            "4                2.574                     2.30397               1075926   \n",
            "\n",
            "        eTIV.1  Age  dataset  \n",
            "0  1619602.965   85        1  \n",
            "1  1624755.130   85        1  \n",
            "2  1622609.518   86        1  \n",
            "3  1583854.236   87        1  \n",
            "4  1617375.362   89        1  \n",
            "\n",
            "[5 rows x 141 columns]\n"
          ]
        }
      ]
    },
    {
      "cell_type": "code",
      "source": [
        "# Separate Target Variable and Predictor Variables\n",
        "y=data['Age'].values\n",
        "X=data[['Left-Lateral-Ventricle', 'Left-Inf-Lat-Vent', 'Left-Cerebellum-White-Matter', 'Left-Cerebellum-Cortex',\n",
        "        'Left-Thalamus', 'Left-Caudate', 'Left-Putamen', 'Left-Pallidum','3rd-Ventricle','4th-Ventricle',\n",
        "        'Brain-Stem','Left-Hippocampus','Left-Amygdala', 'CSF','Left-Accumbens-area','Left-VentralDC',\n",
        "        'Left-vessel','Left-choroid-plexus','Right-Lateral-Ventricle','Right-Inf-Lat-Vent','Right-Cerebellum-White-Matter',\n",
        "        'Right-Cerebellum-Cortex', 'Right-Thalamus','Right-Caudate','Right-Putamen',\n",
        "        'Right-Pallidum','Right-Hippocampus','Right-Amygdala','Right-Accumbens-area',\n",
        "        'Right-VentralDC','Right-vessel','Right-choroid-plexus',\n",
        "        '5th-Ventricle','WM-hypointensities','Left-WM-hypointensities',\n",
        "        'Right-WM-hypointensities','non-WM-hypointensities','Left-non-WM-hypointensities',\n",
        "        'Right-non-WM-hypointensities','Optic-Chiasm','CC_Posterior','CC_Mid_Posterior',\n",
        "        'CC_Central','CC_Mid_Anterior','CC_Anterior','BrainSegVol','BrainSegVolNotVent']].values"
      ],
      "metadata": {
        "id": "oyASSS65HJbU"
      },
      "execution_count": 3,
      "outputs": []
    },
    {
      "cell_type": "code",
      "source": [
        "train = data[:4000]\n",
        "test = data[4000:]\n",
        "X_test = X[4000:]\n",
        "y_test = y[4000:]\n",
        "X_train = X[:4000]\n",
        "y_train = y[:4000]"
      ],
      "metadata": {
        "id": "Uaxm7RbDHTNY"
      },
      "execution_count": 4,
      "outputs": []
    },
    {
      "cell_type": "code",
      "source": [
        "from sklearn import datasets\n",
        "from sklearn.preprocessing import StandardScaler\n",
        "from sklearn.model_selection import train_test_split\n",
        "from sklearn.pipeline import make_pipeline\n",
        "from sklearn.ensemble import GradientBoostingRegressor\n",
        "from sklearn.decomposition import PCA\n",
        "from sklearn.metrics import mean_squared_error\n",
        "import math"
      ],
      "metadata": {
        "id": "Z5TU0-wjHVvj"
      },
      "execution_count": 7,
      "outputs": []
    },
    {
      "cell_type": "code",
      "source": [
        "# Standardize the dataset\n",
        "\n",
        "sc = StandardScaler()\n",
        "X_train_std = sc.fit_transform(train)\n",
        "X_test_std = sc.transform(test)\n",
        "\n",
        "# Hyperparameters for GradientBoostingRegressor\n",
        "\n",
        "gbr_params = {'n_estimators': 20, 'max_depth': 2, 'min_samples_split': 2, 'learning_rate': 0.1, 'loss': 'squared_error'}\n",
        "\n",
        "# Create an instance of gradient boosting regressor\n",
        "\n",
        "gbr = GradientBoostingRegressor(**gbr_params)\n",
        "\n",
        "# Fit the model\n",
        "\n",
        "gbr.fit(X_train_std, y_train)\n",
        "predictions = gbr.predict(X_test_std)\n",
        "total_cases = len(y_test) # size of validation set\n",
        "for i in range(total_cases):\n",
        "  value = y_test[i]\n",
        "  predict = predictions[i]\n",
        "  #print(value, '--------- ' , predict)\n",
        "\n",
        "# Print Coefficient of determination R^2\n",
        "\n",
        "print(\"Model Accuracy: %.3f\" % gbr.score(X_test_std, y_test))\n",
        "\n",
        "# Create the mean squared error\n",
        "\n",
        "mse = mean_squared_error(y_test, gbr.predict(X_test_std))\n",
        "rmse = math.sqrt(mse)\n",
        "print(\"The rooted mean squared error (MSE) on test set:{:.4f}\", rmse)"
      ],
      "metadata": {
        "colab": {
          "base_uri": "https://localhost:8080/"
        },
        "id": "vtC_67yTHaui",
        "outputId": "d717722d-2df2-40e7-c45d-9208ad46b0f6"
      },
      "execution_count": 11,
      "outputs": [
        {
          "output_type": "stream",
          "name": "stdout",
          "text": [
            "Model Accuracy: 0.859\n",
            "The rooted mean squared error (MSE) on test set:{:.4f} 2.609012118675897\n"
          ]
        }
      ]
    }
  ]
}