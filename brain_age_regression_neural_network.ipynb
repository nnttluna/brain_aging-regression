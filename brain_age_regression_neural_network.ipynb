{
  "nbformat": 4,
  "nbformat_minor": 0,
  "metadata": {
    "colab": {
      "provenance": [],
      "mount_file_id": "11iFB1_OuyKezqTwsKJ3u4jtFxz-DNCTc",
      "authorship_tag": "ABX9TyN1n/aDwS0cMm7HDaHlMkTS",
      "include_colab_link": true
    },
    "kernelspec": {
      "name": "python3",
      "display_name": "Python 3"
    },
    "language_info": {
      "name": "python"
    }
  },
  "cells": [
    {
      "cell_type": "markdown",
      "metadata": {
        "id": "view-in-github",
        "colab_type": "text"
      },
      "source": [
        "<a href=\"https://colab.research.google.com/github/nnttluna/brain_aging-regression/blob/main/brain_age_regression_neural_network.ipynb\" target=\"_parent\"><img src=\"https://colab.research.google.com/assets/colab-badge.svg\" alt=\"Open In Colab\"/></a>"
      ]
    },
    {
      "cell_type": "code",
      "execution_count": 1,
      "metadata": {
        "id": "mqX01ZZfIufX",
        "colab": {
          "base_uri": "https://localhost:8080/"
        },
        "outputId": "13510ef8-8480-43f8-d98c-3d921c1cb1f4"
      },
      "outputs": [
        {
          "output_type": "stream",
          "name": "stdout",
          "text": [
            "   S.No  Left-Lateral-Ventricle  Left-Inf-Lat-Vent  \\\n",
            "0     1                 22916.9              982.7   \n",
            "1     2                 22953.2              984.5   \n",
            "2     3                 23320.4             1062.1   \n",
            "3     4                 24360.0             1000.5   \n",
            "4     5                 25769.4             1124.4   \n",
            "\n",
            "   Left-Cerebellum-White-Matter  Left-Cerebellum-Cortex  Left-Thalamus  \\\n",
            "0                       15196.7                 55796.4         6855.5   \n",
            "1                       15289.7                 55778.6         6835.1   \n",
            "2                       15382.1                 55551.2         7566.0   \n",
            "3                       14805.4                 54041.8         8004.6   \n",
            "4                       16331.1                 54108.6         6677.4   \n",
            "\n",
            "   Left-Caudate  Left-Putamen  Left-Pallidum  3rd-Ventricle  ...  \\\n",
            "0        2956.4        4240.7         2223.9         2034.4  ...   \n",
            "1        3064.2        4498.6         2354.1         1927.1  ...   \n",
            "2        3231.7        4456.2         1995.4         2064.7  ...   \n",
            "3        3137.3        4262.2         1983.4         2017.7  ...   \n",
            "4        2964.4        4204.6         2409.7         2251.8  ...   \n",
            "\n",
            "   rh_supramarginal_thickness  rh_frontalpole_thickness  \\\n",
            "0                       2.408                     2.629   \n",
            "1                       2.417                     2.640   \n",
            "2                       2.374                     2.601   \n",
            "3                       2.366                     2.639   \n",
            "4                       2.381                     2.555   \n",
            "\n",
            "   rh_temporalpole_thickness  rh_transversetemporal_thickness  \\\n",
            "0                      3.519                            2.009   \n",
            "1                      3.488                            2.111   \n",
            "2                      3.342                            2.146   \n",
            "3                      3.361                            2.056   \n",
            "4                      3.450                            2.052   \n",
            "\n",
            "   rh_insula_thickness  rh_MeanThickness_thickness  BrainSegVolNotVent.2  \\\n",
            "0                2.825                     2.33635               1093846   \n",
            "1                2.720                     2.34202               1099876   \n",
            "2                2.684                     2.31982               1097999   \n",
            "3                2.700                     2.29215               1070117   \n",
            "4                2.574                     2.30397               1075926   \n",
            "\n",
            "        eTIV.1  Age  dataset  \n",
            "0  1619602.965   85        1  \n",
            "1  1624755.130   85        1  \n",
            "2  1622609.518   86        1  \n",
            "3  1583854.236   87        1  \n",
            "4  1617375.362   89        1  \n",
            "\n",
            "[5 rows x 141 columns]\n"
          ]
        }
      ],
      "source": [
        "import pandas as pd\n",
        "data = pd.read_csv('/content/drive/MyDrive/Portfolio/brain_age_regression.csv')\n",
        "print(data.head())"
      ]
    },
    {
      "cell_type": "code",
      "source": [
        "# Separate Target Variable and Predictor Variables\n",
        "X=data['Age'].values\n",
        "y=data[['Left-Lateral-Ventricle', 'Left-Inf-Lat-Vent', 'Left-Cerebellum-White-Matter', 'Left-Cerebellum-Cortex',\n",
        "        'Left-Thalamus', 'Left-Caudate', 'Left-Putamen', 'Left-Pallidum','3rd-Ventricle','4th-Ventricle',\n",
        "        'Brain-Stem','Left-Hippocampus','Left-Amygdala', 'CSF','Left-Accumbens-area','Left-VentralDC',\n",
        "        'Left-vessel','Left-choroid-plexus','Right-Lateral-Ventricle','Right-Inf-Lat-Vent','Right-Cerebellum-White-Matter',\n",
        "        'Right-Cerebellum-Cortex', 'Right-Thalamus','Right-Caudate','Right-Putamen',\n",
        "        'Right-Pallidum','Right-Hippocampus','Right-Amygdala','Right-Accumbens-area',\n",
        "        'Right-VentralDC','Right-vessel','Right-choroid-plexus',\n",
        "        '5th-Ventricle','WM-hypointensities','Left-WM-hypointensities',\n",
        "        'Right-WM-hypointensities','non-WM-hypointensities','Left-non-WM-hypointensities',\n",
        "        'Right-non-WM-hypointensities','Optic-Chiasm','CC_Posterior','CC_Mid_Posterior',\n",
        "        'CC_Central','CC_Mid_Anterior','CC_Anterior','BrainSegVol','BrainSegVolNotVent']].values"
      ],
      "metadata": {
        "id": "o8WC4Am0JcXJ"
      },
      "execution_count": 23,
      "outputs": []
    },
    {
      "cell_type": "code",
      "source": [
        "!pip install scikeras\n",
        "from keras.callbacks import ModelCheckpoint\n",
        "from keras.models import Sequential\n",
        "from keras.layers import Dense\n",
        "from scikeras.wrappers import KerasRegressor\n",
        "from sklearn.metrics import mean_squared_error\n",
        "from sklearn.metrics import accuracy_score\n",
        "from sklearn.metrics import r2_score\n",
        "from sklearn.model_selection import cross_val_score\n",
        "from sklearn.model_selection import KFold\n",
        "from sklearn.preprocessing import StandardScaler\n",
        "from sklearn.pipeline import Pipeline\n",
        "import math"
      ],
      "metadata": {
        "colab": {
          "base_uri": "https://localhost:8080/"
        },
        "id": "55ISSyP5Jf-B",
        "outputId": "81bb5a9f-dc7c-4a5e-a1c5-0e06fe6d0bab"
      },
      "execution_count": 24,
      "outputs": [
        {
          "output_type": "stream",
          "name": "stdout",
          "text": [
            "Requirement already satisfied: scikeras in /usr/local/lib/python3.10/dist-packages (0.12.0)\n",
            "Requirement already satisfied: packaging>=0.21 in /usr/local/lib/python3.10/dist-packages (from scikeras) (24.0)\n",
            "Requirement already satisfied: scikit-learn>=1.0.0 in /usr/local/lib/python3.10/dist-packages (from scikeras) (1.2.2)\n",
            "Requirement already satisfied: numpy>=1.17.3 in /usr/local/lib/python3.10/dist-packages (from scikit-learn>=1.0.0->scikeras) (1.25.2)\n",
            "Requirement already satisfied: scipy>=1.3.2 in /usr/local/lib/python3.10/dist-packages (from scikit-learn>=1.0.0->scikeras) (1.11.4)\n",
            "Requirement already satisfied: joblib>=1.1.1 in /usr/local/lib/python3.10/dist-packages (from scikit-learn>=1.0.0->scikeras) (1.3.2)\n",
            "Requirement already satisfied: threadpoolctl>=2.0.0 in /usr/local/lib/python3.10/dist-packages (from scikit-learn>=1.0.0->scikeras) (3.3.0)\n"
          ]
        }
      ]
    },
    {
      "cell_type": "code",
      "source": [
        "train = data[:4000]\n",
        "test = data[4000:]\n",
        "val_X = X[4000:]\n",
        "val_y = y[4000:]"
      ],
      "metadata": {
        "id": "bSS9cSdHJjFP"
      },
      "execution_count": 25,
      "outputs": []
    },
    {
      "cell_type": "code",
      "source": [
        "NN_model = Sequential()\n",
        "# The Input Layer :\n",
        "NN_model.add(Dense(128, kernel_initializer='normal',input_dim = train.shape[1], activation='relu'))\n",
        "# The Hidden Layers :\n",
        "NN_model.add(Dense(256, kernel_initializer='normal',activation='relu'))\n",
        "NN_model.add(Dense(256, kernel_initializer='normal',activation='relu'))\n",
        "NN_model.add(Dense(256, kernel_initializer='normal',activation='relu'))\n",
        "# The Output Layer :\n",
        "NN_model.add(Dense(1, kernel_initializer='normal',activation='linear'))\n",
        "# Compile the network :\n",
        "NN_model.compile(loss='mean_absolute_error', optimizer='adam', metrics=['mean_absolute_error'])\n",
        "NN_model.summary()"
      ],
      "metadata": {
        "colab": {
          "base_uri": "https://localhost:8080/"
        },
        "id": "EIIHSIelKSio",
        "outputId": "d0269894-dd8c-4759-bb8b-d7f82901d1f5"
      },
      "execution_count": 26,
      "outputs": [
        {
          "output_type": "stream",
          "name": "stdout",
          "text": [
            "Model: \"sequential_2\"\n",
            "_________________________________________________________________\n",
            " Layer (type)                Output Shape              Param #   \n",
            "=================================================================\n",
            " dense_10 (Dense)            (None, 128)               18176     \n",
            "                                                                 \n",
            " dense_11 (Dense)            (None, 256)               33024     \n",
            "                                                                 \n",
            " dense_12 (Dense)            (None, 256)               65792     \n",
            "                                                                 \n",
            " dense_13 (Dense)            (None, 256)               65792     \n",
            "                                                                 \n",
            " dense_14 (Dense)            (None, 1)                 257       \n",
            "                                                                 \n",
            "=================================================================\n",
            "Total params: 183041 (715.00 KB)\n",
            "Trainable params: 183041 (715.00 KB)\n",
            "Non-trainable params: 0 (0.00 Byte)\n",
            "_________________________________________________________________\n"
          ]
        }
      ]
    },
    {
      "cell_type": "code",
      "source": [
        "checkpoint_name = 'Weights-{epoch:03d}--{val_loss:.5f}.hdf5'\n",
        "checkpoint = ModelCheckpoint(checkpoint_name, monitor='val_loss', verbose = 1, save_best_only = True, mode ='auto')\n",
        "callbacks_list = [checkpoint]"
      ],
      "metadata": {
        "id": "6vNbuSjQKa5E"
      },
      "execution_count": 27,
      "outputs": []
    },
    {
      "cell_type": "code",
      "source": [
        "NN_model.fit(train, X, epochs=12, batch_size=100, validation_split = 0.2, callbacks=callbacks_list, verbose=0)"
      ],
      "metadata": {
        "colab": {
          "base_uri": "https://localhost:8080/"
        },
        "id": "9d8xFw5lKce-",
        "outputId": "5f96fbdd-3450-45b1-bf9e-adf3ac4eeccc"
      },
      "execution_count": 28,
      "outputs": [
        {
          "output_type": "stream",
          "name": "stdout",
          "text": [
            "\n",
            "Epoch 1: val_loss improved from inf to 518.24768, saving model to Weights-001--518.24768.hdf5\n"
          ]
        },
        {
          "output_type": "stream",
          "name": "stderr",
          "text": [
            "/usr/local/lib/python3.10/dist-packages/keras/src/engine/training.py:3103: UserWarning: You are saving your model as an HDF5 file via `model.save()`. This file format is considered legacy. We recommend using instead the native Keras format, e.g. `model.save('my_model.keras')`.\n",
            "  saving_api.save_model(\n"
          ]
        },
        {
          "output_type": "stream",
          "name": "stdout",
          "text": [
            "\n",
            "Epoch 2: val_loss improved from 518.24768 to 394.25247, saving model to Weights-002--394.25247.hdf5\n",
            "\n",
            "Epoch 3: val_loss improved from 394.25247 to 304.63544, saving model to Weights-003--304.63544.hdf5\n",
            "\n",
            "Epoch 4: val_loss improved from 304.63544 to 224.98065, saving model to Weights-004--224.98065.hdf5\n",
            "\n",
            "Epoch 5: val_loss improved from 224.98065 to 88.49282, saving model to Weights-005--88.49282.hdf5\n",
            "\n",
            "Epoch 6: val_loss improved from 88.49282 to 16.60508, saving model to Weights-006--16.60508.hdf5\n",
            "\n",
            "Epoch 7: val_loss did not improve from 16.60508\n",
            "\n",
            "Epoch 8: val_loss did not improve from 16.60508\n",
            "\n",
            "Epoch 9: val_loss did not improve from 16.60508\n",
            "\n",
            "Epoch 10: val_loss improved from 16.60508 to 13.98490, saving model to Weights-010--13.98490.hdf5\n",
            "\n",
            "Epoch 11: val_loss improved from 13.98490 to 11.86216, saving model to Weights-011--11.86216.hdf5\n",
            "\n",
            "Epoch 12: val_loss did not improve from 11.86216\n"
          ]
        },
        {
          "output_type": "execute_result",
          "data": {
            "text/plain": [
              "<keras.src.callbacks.History at 0x79ae862e7640>"
            ]
          },
          "metadata": {},
          "execution_count": 28
        }
      ]
    },
    {
      "cell_type": "code",
      "source": [
        "# Load weights file of the best model :\n",
        "weights_file = 'Weights-011--11.86216.hdf5' # choose the best checkpoint\n",
        "NN_model.load_weights(weights_file) # load it\n",
        "NN_model.compile(loss='mean_absolute_error', optimizer='adam', metrics=['mean_absolute_error'])"
      ],
      "metadata": {
        "id": "JEo17U55KiKx"
      },
      "execution_count": 29,
      "outputs": []
    },
    {
      "cell_type": "code",
      "source": [
        "from keras import backend as K\n",
        "predictions = NN_model.predict(test)\n",
        "MSE = mean_squared_error(val_X, predictions)\n",
        "Rsquared = r2_score(val_X, predictions)\n",
        "total_cases = len(val_X) # size of validation set\n",
        "avg = 0.0\n",
        "SSres = 0.0\n",
        "SStot = 0.0\n",
        "for i in range(total_cases):\n",
        "  value = val_X[i]\n",
        "  predict = predictions[i]\n",
        "  avg = (avg + value)/2\n",
        "  SSres = SSres + (value - predict)**2\n",
        "  SStot = SStot + (value - avg)**2\n",
        "  #print(value, '--------- ' , predict)\n",
        "Rsquared_cal = 1 - SStot/SSres\n",
        "rmse = math.sqrt(MSE)\n",
        "print ('NN R squared', Rsquared_cal)\n",
        "print('NN RMSE = ', rmse)"
      ],
      "metadata": {
        "colab": {
          "base_uri": "https://localhost:8080/"
        },
        "id": "yGxcTRRVKxA1",
        "outputId": "4c1db326-e76d-4040-c384-38dd3c88be7d"
      },
      "execution_count": 30,
      "outputs": [
        {
          "output_type": "stream",
          "name": "stdout",
          "text": [
            "8/8 [==============================] - 1s 10ms/step\n",
            "NN R squared [0.9881889]\n",
            "NN RMSE =  26.579811828127024\n"
          ]
        }
      ]
    }
  ]
}